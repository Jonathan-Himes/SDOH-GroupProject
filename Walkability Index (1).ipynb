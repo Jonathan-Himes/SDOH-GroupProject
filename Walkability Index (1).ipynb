{
 "cells": [
  {
   "cell_type": "code",
   "execution_count": 1,
   "id": "d8bf6311",
   "metadata": {},
   "outputs": [],
   "source": [
    "import pandas as pd"
   ]
  },
  {
   "cell_type": "code",
   "execution_count": 27,
   "id": "e5a24b91",
   "metadata": {},
   "outputs": [
    {
     "name": "stdout",
     "output_type": "stream",
     "text": [
      "   OBJECTID       GEOID10       GEOID20  STATEFP  COUNTYFP  TRACTCE  BLKGRPCE  \\\n",
      "0    204254  4.904200e+11  4.904200e+11       49        41   975300         1   \n",
      "1    204255  4.904200e+11  4.904200e+11       49        41   975500         2   \n",
      "2    204256  4.900500e+11  4.900500e+11       49         5      702         1   \n",
      "3    204257  4.904900e+11  4.904900e+11       49        49     3106         1   \n",
      "4    204258  4.900500e+11  4.900500e+11       49         5      600         4   \n",
      "\n",
      "     CSA                       CSA_Name     CBSA  ...    D5DRI     D5DE  \\\n",
      "0    NaN                            NaN      NaN  ... -99999.0 -99999.0   \n",
      "1    NaN                            NaN      NaN  ... -99999.0 -99999.0   \n",
      "2    NaN                            NaN  30860.0  ... -99999.0 -99999.0   \n",
      "3  482.0  Salt Lake City-Provo-Orem, UT  39340.0  ... -99999.0 -99999.0   \n",
      "4    NaN                            NaN  30860.0  ... -99999.0 -99999.0   \n",
      "\n",
      "     D5DEI  D2A_Ranked  D2B_Ranked  D3B_Ranked  D4A_Ranked  NatWalkInd  \\\n",
      "0 -99999.0          18          20           2           1    7.333333   \n",
      "1 -99999.0           6           5           1           1    2.500000   \n",
      "2 -99999.0           1           1          18           1    6.666667   \n",
      "3 -99999.0          14           4          12           1    7.333333   \n",
      "4 -99999.0           3          13          20           1    9.666667   \n",
      "\n",
      "    Shape_Length    Shape_Area  \n",
      "0   64833.060440  1.338399e+08  \n",
      "1  165433.617500  7.875763e+08  \n",
      "2    3085.665180  5.044389e+05  \n",
      "3    5264.257831  1.066306e+06  \n",
      "4    2433.460138  3.162543e+05  \n",
      "\n",
      "[5 rows x 117 columns]\n"
     ]
    }
   ],
   "source": [
    "data = pd.read_csv(\"WalkingData.csv\")\n",
    "print(data.head())"
   ]
  },
  {
   "cell_type": "code",
   "execution_count": 22,
   "id": "e3253239",
   "metadata": {},
   "outputs": [
    {
     "data": {
      "text/html": [
       "<div>\n",
       "<style scoped>\n",
       "    .dataframe tbody tr th:only-of-type {\n",
       "        vertical-align: middle;\n",
       "    }\n",
       "\n",
       "    .dataframe tbody tr th {\n",
       "        vertical-align: top;\n",
       "    }\n",
       "\n",
       "    .dataframe thead th {\n",
       "        text-align: right;\n",
       "    }\n",
       "</style>\n",
       "<table border=\"1\" class=\"dataframe\">\n",
       "  <thead>\n",
       "    <tr style=\"text-align: right;\">\n",
       "      <th></th>\n",
       "      <th>STATEFP</th>\n",
       "      <th>COUNTYFP</th>\n",
       "      <th>TRACTCE</th>\n",
       "      <th>NatWalkInd</th>\n",
       "    </tr>\n",
       "  </thead>\n",
       "  <tbody>\n",
       "    <tr>\n",
       "      <th>0</th>\n",
       "      <td>49</td>\n",
       "      <td>41</td>\n",
       "      <td>975300</td>\n",
       "      <td>7.333333</td>\n",
       "    </tr>\n",
       "    <tr>\n",
       "      <th>1</th>\n",
       "      <td>49</td>\n",
       "      <td>41</td>\n",
       "      <td>975500</td>\n",
       "      <td>2.500000</td>\n",
       "    </tr>\n",
       "    <tr>\n",
       "      <th>2</th>\n",
       "      <td>49</td>\n",
       "      <td>5</td>\n",
       "      <td>702</td>\n",
       "      <td>6.666667</td>\n",
       "    </tr>\n",
       "    <tr>\n",
       "      <th>3</th>\n",
       "      <td>49</td>\n",
       "      <td>49</td>\n",
       "      <td>3106</td>\n",
       "      <td>7.333333</td>\n",
       "    </tr>\n",
       "    <tr>\n",
       "      <th>4</th>\n",
       "      <td>49</td>\n",
       "      <td>5</td>\n",
       "      <td>600</td>\n",
       "      <td>9.666667</td>\n",
       "    </tr>\n",
       "  </tbody>\n",
       "</table>\n",
       "</div>"
      ],
      "text/plain": [
       "   STATEFP  COUNTYFP  TRACTCE  NatWalkInd\n",
       "0       49        41   975300    7.333333\n",
       "1       49        41   975500    2.500000\n",
       "2       49         5      702    6.666667\n",
       "3       49        49     3106    7.333333\n",
       "4       49         5      600    9.666667"
      ]
     },
     "execution_count": 22,
     "metadata": {},
     "output_type": "execute_result"
    }
   ],
   "source": [
    "data_2 = data[[\"STATEFP\", \"COUNTYFP\", \"TRACTCE\", \"NatWalkInd\"]]\n",
    "data_2.head()"
   ]
  },
  {
   "cell_type": "code",
   "execution_count": 24,
   "id": "fcdda715",
   "metadata": {},
   "outputs": [
    {
     "name": "stderr",
     "output_type": "stream",
     "text": [
      "/var/folders/fp/mr0bdnzj09vb9z68d9kw00m40000gn/T/ipykernel_32973/2094830116.py:1: SettingWithCopyWarning: \n",
      "A value is trying to be set on a copy of a slice from a DataFrame.\n",
      "Try using .loc[row_indexer,col_indexer] = value instead\n",
      "\n",
      "See the caveats in the documentation: https://pandas.pydata.org/pandas-docs/stable/user_guide/indexing.html#returning-a-view-versus-a-copy\n",
      "  data_2['FIPS'] = data_2.iloc[:,0:3].apply(\n"
     ]
    },
    {
     "data": {
      "text/html": [
       "<div>\n",
       "<style scoped>\n",
       "    .dataframe tbody tr th:only-of-type {\n",
       "        vertical-align: middle;\n",
       "    }\n",
       "\n",
       "    .dataframe tbody tr th {\n",
       "        vertical-align: top;\n",
       "    }\n",
       "\n",
       "    .dataframe thead th {\n",
       "        text-align: right;\n",
       "    }\n",
       "</style>\n",
       "<table border=\"1\" class=\"dataframe\">\n",
       "  <thead>\n",
       "    <tr style=\"text-align: right;\">\n",
       "      <th></th>\n",
       "      <th>STATEFP</th>\n",
       "      <th>COUNTYFP</th>\n",
       "      <th>TRACTCE</th>\n",
       "      <th>NatWalkInd</th>\n",
       "      <th>FIPS</th>\n",
       "    </tr>\n",
       "  </thead>\n",
       "  <tbody>\n",
       "    <tr>\n",
       "      <th>0</th>\n",
       "      <td>49</td>\n",
       "      <td>41</td>\n",
       "      <td>975300</td>\n",
       "      <td>7.333333</td>\n",
       "      <td>4941975300</td>\n",
       "    </tr>\n",
       "    <tr>\n",
       "      <th>1</th>\n",
       "      <td>49</td>\n",
       "      <td>41</td>\n",
       "      <td>975500</td>\n",
       "      <td>2.500000</td>\n",
       "      <td>4941975500</td>\n",
       "    </tr>\n",
       "    <tr>\n",
       "      <th>2</th>\n",
       "      <td>49</td>\n",
       "      <td>5</td>\n",
       "      <td>702</td>\n",
       "      <td>6.666667</td>\n",
       "      <td>495702</td>\n",
       "    </tr>\n",
       "    <tr>\n",
       "      <th>3</th>\n",
       "      <td>49</td>\n",
       "      <td>49</td>\n",
       "      <td>3106</td>\n",
       "      <td>7.333333</td>\n",
       "      <td>49493106</td>\n",
       "    </tr>\n",
       "    <tr>\n",
       "      <th>4</th>\n",
       "      <td>49</td>\n",
       "      <td>5</td>\n",
       "      <td>600</td>\n",
       "      <td>9.666667</td>\n",
       "      <td>495600</td>\n",
       "    </tr>\n",
       "  </tbody>\n",
       "</table>\n",
       "</div>"
      ],
      "text/plain": [
       "   STATEFP  COUNTYFP  TRACTCE  NatWalkInd        FIPS\n",
       "0       49        41   975300    7.333333  4941975300\n",
       "1       49        41   975500    2.500000  4941975500\n",
       "2       49         5      702    6.666667      495702\n",
       "3       49        49     3106    7.333333    49493106\n",
       "4       49         5      600    9.666667      495600"
      ]
     },
     "execution_count": 24,
     "metadata": {},
     "output_type": "execute_result"
    }
   ],
   "source": [
    "data_2['FIPS'] = data_2.iloc[:,0:3].apply(\n",
    "    lambda x: ''.join(x.astype(str)),axis=1)\n",
    "data_2.head()"
   ]
  },
  {
   "cell_type": "code",
   "execution_count": 26,
   "id": "f8523830",
   "metadata": {},
   "outputs": [
    {
     "data": {
      "text/html": [
       "<div>\n",
       "<style scoped>\n",
       "    .dataframe tbody tr th:only-of-type {\n",
       "        vertical-align: middle;\n",
       "    }\n",
       "\n",
       "    .dataframe tbody tr th {\n",
       "        vertical-align: top;\n",
       "    }\n",
       "\n",
       "    .dataframe thead th {\n",
       "        text-align: right;\n",
       "    }\n",
       "</style>\n",
       "<table border=\"1\" class=\"dataframe\">\n",
       "  <thead>\n",
       "    <tr style=\"text-align: right;\">\n",
       "      <th></th>\n",
       "      <th>FIPS</th>\n",
       "      <th>NatWalkInd</th>\n",
       "    </tr>\n",
       "  </thead>\n",
       "  <tbody>\n",
       "    <tr>\n",
       "      <th>0</th>\n",
       "      <td>4941975300</td>\n",
       "      <td>7.333333</td>\n",
       "    </tr>\n",
       "    <tr>\n",
       "      <th>1</th>\n",
       "      <td>4941975500</td>\n",
       "      <td>2.500000</td>\n",
       "    </tr>\n",
       "    <tr>\n",
       "      <th>2</th>\n",
       "      <td>495702</td>\n",
       "      <td>6.666667</td>\n",
       "    </tr>\n",
       "    <tr>\n",
       "      <th>3</th>\n",
       "      <td>49493106</td>\n",
       "      <td>7.333333</td>\n",
       "    </tr>\n",
       "    <tr>\n",
       "      <th>4</th>\n",
       "      <td>495600</td>\n",
       "      <td>9.666667</td>\n",
       "    </tr>\n",
       "  </tbody>\n",
       "</table>\n",
       "</div>"
      ],
      "text/plain": [
       "         FIPS  NatWalkInd\n",
       "0  4941975300    7.333333\n",
       "1  4941975500    2.500000\n",
       "2      495702    6.666667\n",
       "3    49493106    7.333333\n",
       "4      495600    9.666667"
      ]
     },
     "execution_count": 26,
     "metadata": {},
     "output_type": "execute_result"
    }
   ],
   "source": [
    "final_walkability_data = data_2[[\"FIPS\", \"NatWalkInd\"]]\n",
    "final_walkability_data.head()"
   ]
  }
 ],
 "metadata": {
  "kernelspec": {
   "display_name": "Python 3 (ipykernel)",
   "language": "python",
   "name": "python3"
  },
  "language_info": {
   "codemirror_mode": {
    "name": "ipython",
    "version": 3
   },
   "file_extension": ".py",
   "mimetype": "text/x-python",
   "name": "python",
   "nbconvert_exporter": "python",
   "pygments_lexer": "ipython3",
   "version": "3.9.7"
  }
 },
 "nbformat": 4,
 "nbformat_minor": 5
}
