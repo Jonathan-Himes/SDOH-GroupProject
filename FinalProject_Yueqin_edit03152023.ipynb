{
 "cells": [
  {
   "cell_type": "markdown",
   "id": "7ebfdb32-d14c-4986-8f8c-69ccf5aac4a4",
   "metadata": {},
   "source": [
    "# Group 5\n",
    "## Data Wrangling Final Project\n",
    "## Social Determinants of Health\n",
    "\n",
    "Jonathan Himes jonathan.himes@utah.edu U1367169 <br>\n",
    "Michelle Kubicki michelle.kubicki@utah.edu U1370752<br> \n",
    "Yueqin Yang yueqin.yang@hsc.utah.edu U0737683<br> \n",
    "Jackie Bearnson u0763123@umail.utah.edu U0763123 <br>\n",
    "Lucia Ranallo U1427138@umail.utah.edu U1427138 <br>\n",
    "___\n",
    "\n"
   ]
  },
  {
   "cell_type": "code",
   "execution_count": 1,
   "id": "fe27a825-ac00-4562-ab08-108e1bd4b7de",
   "metadata": {},
   "outputs": [],
   "source": [
    "# Import required packages\n",
    "import pandas as pd\n",
    "import numpy as np"
   ]
  },
  {
   "cell_type": "code",
   "execution_count": 5,
   "id": "2cedfa22",
   "metadata": {},
   "outputs": [
    {
     "name": "stdout",
     "output_type": "stream",
     "text": [
      "['Read Me', 'Variable Lookup', 'Food Access Research Atlas']\n"
     ]
    }
   ],
   "source": [
    "#Read excel file FoodAccessResearchAtlasData2019\n",
    "data = pd.ExcelFile('Data/FoodAccessResearchAtlasData2019.xlsx')\n",
    "print(data.sheet_names)"
   ]
  },
  {
   "cell_type": "code",
   "execution_count": 13,
   "id": "969deaa9",
   "metadata": {},
   "outputs": [],
   "source": [
    "variablelookup_data = pd.read_excel('Data/FoodAccessResearchAtlasData2019.xlsx', sheet_name='Variable Lookup')\n",
    "variablelookup_data.to_csv('Data/variablelookup_data.csv', index=False)"
   ]
  },
  {
   "cell_type": "code",
   "execution_count": 16,
   "id": "ec1c6fa3",
   "metadata": {
    "scrolled": true
   },
   "outputs": [
    {
     "data": {
      "text/html": [
       "<div>\n",
       "<style scoped>\n",
       "    .dataframe tbody tr th:only-of-type {\n",
       "        vertical-align: middle;\n",
       "    }\n",
       "\n",
       "    .dataframe tbody tr th {\n",
       "        vertical-align: top;\n",
       "    }\n",
       "\n",
       "    .dataframe thead th {\n",
       "        text-align: right;\n",
       "    }\n",
       "</style>\n",
       "<table border=\"1\" class=\"dataframe\">\n",
       "  <thead>\n",
       "    <tr style=\"text-align: right;\">\n",
       "      <th></th>\n",
       "      <th>CensusTract</th>\n",
       "      <th>State</th>\n",
       "      <th>County</th>\n",
       "      <th>Urban</th>\n",
       "      <th>LATracts_half</th>\n",
       "    </tr>\n",
       "  </thead>\n",
       "  <tbody>\n",
       "    <tr>\n",
       "      <th>66425</th>\n",
       "      <td>49001100100</td>\n",
       "      <td>Utah</td>\n",
       "      <td>Beaver County</td>\n",
       "      <td>0</td>\n",
       "      <td>0</td>\n",
       "    </tr>\n",
       "    <tr>\n",
       "      <th>66426</th>\n",
       "      <td>49001100200</td>\n",
       "      <td>Utah</td>\n",
       "      <td>Beaver County</td>\n",
       "      <td>0</td>\n",
       "      <td>0</td>\n",
       "    </tr>\n",
       "    <tr>\n",
       "      <th>66427</th>\n",
       "      <td>49003960100</td>\n",
       "      <td>Utah</td>\n",
       "      <td>Box Elder County</td>\n",
       "      <td>0</td>\n",
       "      <td>0</td>\n",
       "    </tr>\n",
       "    <tr>\n",
       "      <th>66428</th>\n",
       "      <td>49003960200</td>\n",
       "      <td>Utah</td>\n",
       "      <td>Box Elder County</td>\n",
       "      <td>0</td>\n",
       "      <td>0</td>\n",
       "    </tr>\n",
       "    <tr>\n",
       "      <th>66429</th>\n",
       "      <td>49003960300</td>\n",
       "      <td>Utah</td>\n",
       "      <td>Box Elder County</td>\n",
       "      <td>1</td>\n",
       "      <td>1</td>\n",
       "    </tr>\n",
       "    <tr>\n",
       "      <th>...</th>\n",
       "      <td>...</td>\n",
       "      <td>...</td>\n",
       "      <td>...</td>\n",
       "      <td>...</td>\n",
       "      <td>...</td>\n",
       "    </tr>\n",
       "    <tr>\n",
       "      <th>67005</th>\n",
       "      <td>49057210900</td>\n",
       "      <td>Utah</td>\n",
       "      <td>Weber County</td>\n",
       "      <td>1</td>\n",
       "      <td>1</td>\n",
       "    </tr>\n",
       "    <tr>\n",
       "      <th>67006</th>\n",
       "      <td>49057211000</td>\n",
       "      <td>Utah</td>\n",
       "      <td>Weber County</td>\n",
       "      <td>1</td>\n",
       "      <td>1</td>\n",
       "    </tr>\n",
       "    <tr>\n",
       "      <th>67007</th>\n",
       "      <td>49057211100</td>\n",
       "      <td>Utah</td>\n",
       "      <td>Weber County</td>\n",
       "      <td>1</td>\n",
       "      <td>1</td>\n",
       "    </tr>\n",
       "    <tr>\n",
       "      <th>67008</th>\n",
       "      <td>49057211201</td>\n",
       "      <td>Utah</td>\n",
       "      <td>Weber County</td>\n",
       "      <td>1</td>\n",
       "      <td>1</td>\n",
       "    </tr>\n",
       "    <tr>\n",
       "      <th>67009</th>\n",
       "      <td>49057211202</td>\n",
       "      <td>Utah</td>\n",
       "      <td>Weber County</td>\n",
       "      <td>1</td>\n",
       "      <td>1</td>\n",
       "    </tr>\n",
       "  </tbody>\n",
       "</table>\n",
       "<p>585 rows × 5 columns</p>\n",
       "</div>"
      ],
      "text/plain": [
       "       CensusTract State            County  Urban  LATracts_half\n",
       "66425  49001100100  Utah     Beaver County      0              0\n",
       "66426  49001100200  Utah     Beaver County      0              0\n",
       "66427  49003960100  Utah  Box Elder County      0              0\n",
       "66428  49003960200  Utah  Box Elder County      0              0\n",
       "66429  49003960300  Utah  Box Elder County      1              1\n",
       "...            ...   ...               ...    ...            ...\n",
       "67005  49057210900  Utah      Weber County      1              1\n",
       "67006  49057211000  Utah      Weber County      1              1\n",
       "67007  49057211100  Utah      Weber County      1              1\n",
       "67008  49057211201  Utah      Weber County      1              1\n",
       "67009  49057211202  Utah      Weber County      1              1\n",
       "\n",
       "[585 rows x 5 columns]"
      ]
     },
     "execution_count": 16,
     "metadata": {},
     "output_type": "execute_result"
    }
   ],
   "source": [
    "data = pd.read_excel('Data/FoodAccessResearchAtlasData2019.xlsx', sheet_name='Food Access Research Atlas')\n",
    "utah_data = data.loc[data['State'] == 'Utah', ['CensusTract','State','County','Urban', 'LATracts_half']]\n",
    "utah_data"
   ]
  },
  {
   "cell_type": "code",
   "execution_count": 17,
   "id": "c49314a4",
   "metadata": {},
   "outputs": [],
   "source": [
    "utah_data.to_csv('Data/utah_data_FoodAccessResearchAtlasData2019.csv', index=False)"
   ]
  },
  {
   "cell_type": "code",
   "execution_count": null,
   "id": "6e96cb43",
   "metadata": {},
   "outputs": [],
   "source": [
    "# merge the dataframes based on their FIPS codes\n",
    "# read in the two dataframes\n",
    "df1 = pd.read_csv('Jonathan_dataframe.csv')\n",
    "df2 = pd.read_csv('utah_data_FoodAccessResearchAtlasData2019.csv')\n",
    "\n",
    "merged_df = pd.merge(df1, df2, on='FIPS')"
   ]
  },
  {
   "cell_type": "code",
   "execution_count": null,
   "id": "770cdeeb-f57f-4dce-8f78-e4e0119c0bfc",
   "metadata": {},
   "outputs": [],
   "source": []
  }
 ],
 "metadata": {
  "kernelspec": {
   "display_name": "Python 3",
   "language": "python",
   "name": "python3"
  },
  "language_info": {
   "codemirror_mode": {
    "name": "ipython",
    "version": 3
   },
   "file_extension": ".py",
   "mimetype": "text/x-python",
   "name": "python",
   "nbconvert_exporter": "python",
   "pygments_lexer": "ipython3",
   "version": "3.8.8"
  }
 },
 "nbformat": 4,
 "nbformat_minor": 5
}
