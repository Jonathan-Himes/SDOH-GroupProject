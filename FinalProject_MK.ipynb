{
 "cells": [
  {
   "cell_type": "code",
   "execution_count": 2,
   "id": "bda0f9c2-69cb-455b-bb34-7e8f05512405",
   "metadata": {},
   "outputs": [],
   "source": [
    "### Import required packages ###\n",
    "import pandas as pd\n",
    "import numpy as np"
   ]
  },
  {
   "cell_type": "code",
   "execution_count": 33,
   "id": "9626819a-783d-4a18-aebb-39c901763271",
   "metadata": {},
   "outputs": [],
   "source": [
    "### Read CSV file Utah.csv ###\n",
    "df = pd.read_csv('Utah.csv')"
   ]
  },
  {
   "cell_type": "code",
   "execution_count": 41,
   "id": "09847aa2-52d4-41c3-aa61-c38d6410d115",
   "metadata": {},
   "outputs": [],
   "source": [
    "df = pd.read_csv('Utah.csv', usecols=['STATE', 'COUNTY','FIPS','RPL_THEMES','F_TOTAL'])"
   ]
  },
  {
   "cell_type": "code",
   "execution_count": 42,
   "id": "ef6b15b9-bd96-4a0a-a6fe-ce27c827072c",
   "metadata": {},
   "outputs": [
    {
     "data": {
      "text/html": [
       "<div>\n",
       "<style scoped>\n",
       "    .dataframe tbody tr th:only-of-type {\n",
       "        vertical-align: middle;\n",
       "    }\n",
       "\n",
       "    .dataframe tbody tr th {\n",
       "        vertical-align: top;\n",
       "    }\n",
       "\n",
       "    .dataframe thead th {\n",
       "        text-align: right;\n",
       "    }\n",
       "</style>\n",
       "<table border=\"1\" class=\"dataframe\">\n",
       "  <thead>\n",
       "    <tr style=\"text-align: right;\">\n",
       "      <th></th>\n",
       "      <th>STATE</th>\n",
       "      <th>COUNTY</th>\n",
       "      <th>FIPS</th>\n",
       "      <th>RPL_THEMES</th>\n",
       "      <th>F_TOTAL</th>\n",
       "    </tr>\n",
       "  </thead>\n",
       "  <tbody>\n",
       "    <tr>\n",
       "      <th>0</th>\n",
       "      <td>UTAH</td>\n",
       "      <td>Salt Lake</td>\n",
       "      <td>49035112818</td>\n",
       "      <td>-999.0000</td>\n",
       "      <td>-999</td>\n",
       "    </tr>\n",
       "    <tr>\n",
       "      <th>1</th>\n",
       "      <td>UTAH</td>\n",
       "      <td>Salt Lake</td>\n",
       "      <td>49035980000</td>\n",
       "      <td>-999.0000</td>\n",
       "      <td>-999</td>\n",
       "    </tr>\n",
       "    <tr>\n",
       "      <th>2</th>\n",
       "      <td>UTAH</td>\n",
       "      <td>Tooele</td>\n",
       "      <td>49045980000</td>\n",
       "      <td>-999.0000</td>\n",
       "      <td>-999</td>\n",
       "    </tr>\n",
       "    <tr>\n",
       "      <th>3</th>\n",
       "      <td>UTAH</td>\n",
       "      <td>Utah</td>\n",
       "      <td>49049980100</td>\n",
       "      <td>-999.0000</td>\n",
       "      <td>-999</td>\n",
       "    </tr>\n",
       "    <tr>\n",
       "      <th>4</th>\n",
       "      <td>UTAH</td>\n",
       "      <td>Utah</td>\n",
       "      <td>49049010217</td>\n",
       "      <td>0.0000</td>\n",
       "      <td>1</td>\n",
       "    </tr>\n",
       "    <tr>\n",
       "      <th>...</th>\n",
       "      <td>...</td>\n",
       "      <td>...</td>\n",
       "      <td>...</td>\n",
       "      <td>...</td>\n",
       "      <td>...</td>\n",
       "    </tr>\n",
       "    <tr>\n",
       "      <th>583</th>\n",
       "      <td>UTAH</td>\n",
       "      <td>Salt Lake</td>\n",
       "      <td>49035113406</td>\n",
       "      <td>0.9931</td>\n",
       "      <td>7</td>\n",
       "    </tr>\n",
       "    <tr>\n",
       "      <th>584</th>\n",
       "      <td>UTAH</td>\n",
       "      <td>Weber</td>\n",
       "      <td>49057200900</td>\n",
       "      <td>0.9949</td>\n",
       "      <td>11</td>\n",
       "    </tr>\n",
       "    <tr>\n",
       "      <th>585</th>\n",
       "      <td>UTAH</td>\n",
       "      <td>San Juan</td>\n",
       "      <td>49037942100</td>\n",
       "      <td>0.9966</td>\n",
       "      <td>10</td>\n",
       "    </tr>\n",
       "    <tr>\n",
       "      <th>586</th>\n",
       "      <td>UTAH</td>\n",
       "      <td>Salt Lake</td>\n",
       "      <td>49035100306</td>\n",
       "      <td>0.9983</td>\n",
       "      <td>11</td>\n",
       "    </tr>\n",
       "    <tr>\n",
       "      <th>587</th>\n",
       "      <td>UTAH</td>\n",
       "      <td>Utah</td>\n",
       "      <td>49049002801</td>\n",
       "      <td>1.0000</td>\n",
       "      <td>8</td>\n",
       "    </tr>\n",
       "  </tbody>\n",
       "</table>\n",
       "<p>588 rows × 5 columns</p>\n",
       "</div>"
      ],
      "text/plain": [
       "    STATE     COUNTY         FIPS  RPL_THEMES  F_TOTAL\n",
       "0    UTAH  Salt Lake  49035112818   -999.0000     -999\n",
       "1    UTAH  Salt Lake  49035980000   -999.0000     -999\n",
       "2    UTAH     Tooele  49045980000   -999.0000     -999\n",
       "3    UTAH       Utah  49049980100   -999.0000     -999\n",
       "4    UTAH       Utah  49049010217      0.0000        1\n",
       "..    ...        ...          ...         ...      ...\n",
       "583  UTAH  Salt Lake  49035113406      0.9931        7\n",
       "584  UTAH      Weber  49057200900      0.9949       11\n",
       "585  UTAH   San Juan  49037942100      0.9966       10\n",
       "586  UTAH  Salt Lake  49035100306      0.9983       11\n",
       "587  UTAH       Utah  49049002801      1.0000        8\n",
       "\n",
       "[588 rows x 5 columns]"
      ]
     },
     "execution_count": 42,
     "metadata": {},
     "output_type": "execute_result"
    }
   ],
   "source": [
    "df_subset = df[['STATE', 'COUNTY','FIPS','RPL_THEMES','F_TOTAL']]\n",
    "df_subset\n"
   ]
  },
  {
   "cell_type": "code",
   "execution_count": 43,
   "id": "a1b12e3c-f8e3-4041-b7de-cf3c0ca28327",
   "metadata": {},
   "outputs": [],
   "source": [
    "df_subset.to_csv('utah_data_SVI.csv', index=False)"
   ]
  },
  {
   "cell_type": "code",
   "execution_count": null,
   "id": "a6b3e0c6-6a44-45ca-b4eb-1823f9e55ef6",
   "metadata": {},
   "outputs": [],
   "source": [
    "# merge the dataframes based on their FIPS codes\n",
    "# read in the two dataframes\n",
    "df1 = pd.read_csv('Jonathan_dataframe.csv')\n",
    "df2 = pd.read_csv('utah_data_SVI.csv')\n",
    "\n",
    "merged_df = pd.merge(df1, df2, on='FIPS')"
   ]
  }
 ],
 "metadata": {
  "kernelspec": {
   "display_name": "anaconda-2022.05-py39",
   "language": "python",
   "name": "conda-env-anaconda-2022.05-py39-py"
  },
  "language_info": {
   "codemirror_mode": {
    "name": "ipython",
    "version": 3
   },
   "file_extension": ".py",
   "mimetype": "text/x-python",
   "name": "python",
   "nbconvert_exporter": "python",
   "pygments_lexer": "ipython3",
   "version": "3.9.12"
  }
 },
 "nbformat": 4,
 "nbformat_minor": 5
}
