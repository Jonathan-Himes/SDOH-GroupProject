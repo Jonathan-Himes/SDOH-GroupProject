{
 "cells": [
  {
   "cell_type": "code",
   "execution_count": 1,
   "id": "e8f5a2fc",
   "metadata": {},
   "outputs": [],
   "source": [
    "import pandas as pd"
   ]
  },
  {
   "cell_type": "code",
   "execution_count": 2,
   "id": "1596a4e6",
   "metadata": {},
   "outputs": [],
   "source": [
    "# extract geo id from race data and merge with gini index\n",
    "race_df = pd.read_csv(r'Data\\C02003_Detailed Race--Data.csv')"
   ]
  },
  {
   "cell_type": "code",
   "execution_count": 3,
   "id": "d15be29b",
   "metadata": {},
   "outputs": [],
   "source": [
    "race_df = race_df.drop(index=0)"
   ]
  },
  {
   "cell_type": "code",
   "execution_count": 4,
   "id": "48a5e9fc",
   "metadata": {},
   "outputs": [],
   "source": [
    "race_df = race_df.reset_index(drop=True)"
   ]
  },
  {
   "cell_type": "markdown",
   "id": "84a97b20",
   "metadata": {},
   "source": [
    "### 2018 gini index data\n",
    "---------"
   ]
  },
  {
   "cell_type": "code",
   "execution_count": 5,
   "id": "cb0fbfee",
   "metadata": {},
   "outputs": [],
   "source": [
    "gini_df = pd.read_excel(r'Data\\Gini_2018_modified.xlsx','Data')"
   ]
  },
  {
   "cell_type": "code",
   "execution_count": 6,
   "id": "f71b817d",
   "metadata": {},
   "outputs": [
    {
     "data": {
      "text/html": [
       "<div>\n",
       "<style scoped>\n",
       "    .dataframe tbody tr th:only-of-type {\n",
       "        vertical-align: middle;\n",
       "    }\n",
       "\n",
       "    .dataframe tbody tr th {\n",
       "        vertical-align: top;\n",
       "    }\n",
       "\n",
       "    .dataframe thead th {\n",
       "        text-align: right;\n",
       "    }\n",
       "</style>\n",
       "<table border=\"1\" class=\"dataframe\">\n",
       "  <thead>\n",
       "    <tr style=\"text-align: right;\">\n",
       "      <th></th>\n",
       "      <th>name</th>\n",
       "      <th>gini_index</th>\n",
       "    </tr>\n",
       "  </thead>\n",
       "  <tbody>\n",
       "    <tr>\n",
       "      <th>0</th>\n",
       "      <td>Census Tract 1001, Beaver County, Utah</td>\n",
       "      <td>0.4095</td>\n",
       "    </tr>\n",
       "    <tr>\n",
       "      <th>1</th>\n",
       "      <td>Census Tract 1002, Beaver County, Utah</td>\n",
       "      <td>0.3306</td>\n",
       "    </tr>\n",
       "    <tr>\n",
       "      <th>2</th>\n",
       "      <td>Census Tract 9601, Box Elder County, Utah</td>\n",
       "      <td>0.4058</td>\n",
       "    </tr>\n",
       "    <tr>\n",
       "      <th>3</th>\n",
       "      <td>Census Tract 9602, Box Elder County, Utah</td>\n",
       "      <td>0.3215</td>\n",
       "    </tr>\n",
       "    <tr>\n",
       "      <th>4</th>\n",
       "      <td>Census Tract 9603, Box Elder County, Utah</td>\n",
       "      <td>0.3355</td>\n",
       "    </tr>\n",
       "  </tbody>\n",
       "</table>\n",
       "</div>"
      ],
      "text/plain": [
       "                                        name gini_index\n",
       "0     Census Tract 1001, Beaver County, Utah     0.4095\n",
       "1     Census Tract 1002, Beaver County, Utah     0.3306\n",
       "2  Census Tract 9601, Box Elder County, Utah     0.4058\n",
       "3  Census Tract 9602, Box Elder County, Utah     0.3215\n",
       "4  Census Tract 9603, Box Elder County, Utah     0.3355"
      ]
     },
     "execution_count": 6,
     "metadata": {},
     "output_type": "execute_result"
    }
   ],
   "source": [
    "gini_df.head()"
   ]
  },
  {
   "cell_type": "code",
   "execution_count": 7,
   "id": "15409682",
   "metadata": {},
   "outputs": [],
   "source": [
    "gini_df[['GEO_ID','NAME']] = race_df[['GEO_ID','NAME']]"
   ]
  },
  {
   "cell_type": "code",
   "execution_count": 8,
   "id": "c41e8f89",
   "metadata": {},
   "outputs": [
    {
     "data": {
      "text/html": [
       "<div>\n",
       "<style scoped>\n",
       "    .dataframe tbody tr th:only-of-type {\n",
       "        vertical-align: middle;\n",
       "    }\n",
       "\n",
       "    .dataframe tbody tr th {\n",
       "        vertical-align: top;\n",
       "    }\n",
       "\n",
       "    .dataframe thead th {\n",
       "        text-align: right;\n",
       "    }\n",
       "</style>\n",
       "<table border=\"1\" class=\"dataframe\">\n",
       "  <thead>\n",
       "    <tr style=\"text-align: right;\">\n",
       "      <th></th>\n",
       "      <th>name</th>\n",
       "      <th>gini_index</th>\n",
       "      <th>GEO_ID</th>\n",
       "      <th>NAME</th>\n",
       "    </tr>\n",
       "  </thead>\n",
       "  <tbody>\n",
       "    <tr>\n",
       "      <th>0</th>\n",
       "      <td>Census Tract 1001, Beaver County, Utah</td>\n",
       "      <td>0.4095</td>\n",
       "      <td>1400000US49001100100</td>\n",
       "      <td>Census Tract 1001, Beaver County, Utah</td>\n",
       "    </tr>\n",
       "    <tr>\n",
       "      <th>1</th>\n",
       "      <td>Census Tract 1002, Beaver County, Utah</td>\n",
       "      <td>0.3306</td>\n",
       "      <td>1400000US49001100200</td>\n",
       "      <td>Census Tract 1002, Beaver County, Utah</td>\n",
       "    </tr>\n",
       "    <tr>\n",
       "      <th>2</th>\n",
       "      <td>Census Tract 9601, Box Elder County, Utah</td>\n",
       "      <td>0.4058</td>\n",
       "      <td>1400000US49003960100</td>\n",
       "      <td>Census Tract 9601, Box Elder County, Utah</td>\n",
       "    </tr>\n",
       "    <tr>\n",
       "      <th>3</th>\n",
       "      <td>Census Tract 9602, Box Elder County, Utah</td>\n",
       "      <td>0.3215</td>\n",
       "      <td>1400000US49003960200</td>\n",
       "      <td>Census Tract 9602, Box Elder County, Utah</td>\n",
       "    </tr>\n",
       "    <tr>\n",
       "      <th>4</th>\n",
       "      <td>Census Tract 9603, Box Elder County, Utah</td>\n",
       "      <td>0.3355</td>\n",
       "      <td>1400000US49003960300</td>\n",
       "      <td>Census Tract 9603, Box Elder County, Utah</td>\n",
       "    </tr>\n",
       "    <tr>\n",
       "      <th>...</th>\n",
       "      <td>...</td>\n",
       "      <td>...</td>\n",
       "      <td>...</td>\n",
       "      <td>...</td>\n",
       "    </tr>\n",
       "    <tr>\n",
       "      <th>583</th>\n",
       "      <td>Census Tract 2109, Weber County, Utah</td>\n",
       "      <td>0.3556</td>\n",
       "      <td>1400000US49057210900</td>\n",
       "      <td>Census Tract 2109, Weber County, Utah</td>\n",
       "    </tr>\n",
       "    <tr>\n",
       "      <th>584</th>\n",
       "      <td>Census Tract 2110, Weber County, Utah</td>\n",
       "      <td>0.3006</td>\n",
       "      <td>1400000US49057211000</td>\n",
       "      <td>Census Tract 2110, Weber County, Utah</td>\n",
       "    </tr>\n",
       "    <tr>\n",
       "      <th>585</th>\n",
       "      <td>Census Tract 2111, Weber County, Utah</td>\n",
       "      <td>0.4218</td>\n",
       "      <td>1400000US49057211100</td>\n",
       "      <td>Census Tract 2111, Weber County, Utah</td>\n",
       "    </tr>\n",
       "    <tr>\n",
       "      <th>586</th>\n",
       "      <td>Census Tract 2112.01, Weber County, Utah</td>\n",
       "      <td>0.4046</td>\n",
       "      <td>1400000US49057211201</td>\n",
       "      <td>Census Tract 2112.01, Weber County, Utah</td>\n",
       "    </tr>\n",
       "    <tr>\n",
       "      <th>587</th>\n",
       "      <td>Census Tract 2112.02, Weber County, Utah</td>\n",
       "      <td>0.4150</td>\n",
       "      <td>1400000US49057211202</td>\n",
       "      <td>Census Tract 2112.02, Weber County, Utah</td>\n",
       "    </tr>\n",
       "  </tbody>\n",
       "</table>\n",
       "<p>588 rows × 4 columns</p>\n",
       "</div>"
      ],
      "text/plain": [
       "                                          name gini_index  \\\n",
       "0       Census Tract 1001, Beaver County, Utah     0.4095   \n",
       "1       Census Tract 1002, Beaver County, Utah     0.3306   \n",
       "2    Census Tract 9601, Box Elder County, Utah     0.4058   \n",
       "3    Census Tract 9602, Box Elder County, Utah     0.3215   \n",
       "4    Census Tract 9603, Box Elder County, Utah     0.3355   \n",
       "..                                         ...        ...   \n",
       "583      Census Tract 2109, Weber County, Utah     0.3556   \n",
       "584      Census Tract 2110, Weber County, Utah     0.3006   \n",
       "585      Census Tract 2111, Weber County, Utah     0.4218   \n",
       "586   Census Tract 2112.01, Weber County, Utah     0.4046   \n",
       "587   Census Tract 2112.02, Weber County, Utah     0.4150   \n",
       "\n",
       "                   GEO_ID                                       NAME  \n",
       "0    1400000US49001100100     Census Tract 1001, Beaver County, Utah  \n",
       "1    1400000US49001100200     Census Tract 1002, Beaver County, Utah  \n",
       "2    1400000US49003960100  Census Tract 9601, Box Elder County, Utah  \n",
       "3    1400000US49003960200  Census Tract 9602, Box Elder County, Utah  \n",
       "4    1400000US49003960300  Census Tract 9603, Box Elder County, Utah  \n",
       "..                    ...                                        ...  \n",
       "583  1400000US49057210900      Census Tract 2109, Weber County, Utah  \n",
       "584  1400000US49057211000      Census Tract 2110, Weber County, Utah  \n",
       "585  1400000US49057211100      Census Tract 2111, Weber County, Utah  \n",
       "586  1400000US49057211201   Census Tract 2112.01, Weber County, Utah  \n",
       "587  1400000US49057211202   Census Tract 2112.02, Weber County, Utah  \n",
       "\n",
       "[588 rows x 4 columns]"
      ]
     },
     "execution_count": 8,
     "metadata": {},
     "output_type": "execute_result"
    }
   ],
   "source": [
    "gini_df"
   ]
  },
  {
   "cell_type": "code",
   "execution_count": 9,
   "id": "199965aa",
   "metadata": {},
   "outputs": [
    {
     "data": {
      "text/html": [
       "<div>\n",
       "<style scoped>\n",
       "    .dataframe tbody tr th:only-of-type {\n",
       "        vertical-align: middle;\n",
       "    }\n",
       "\n",
       "    .dataframe tbody tr th {\n",
       "        vertical-align: top;\n",
       "    }\n",
       "\n",
       "    .dataframe thead th {\n",
       "        text-align: right;\n",
       "    }\n",
       "</style>\n",
       "<table border=\"1\" class=\"dataframe\">\n",
       "  <thead>\n",
       "    <tr style=\"text-align: right;\">\n",
       "      <th></th>\n",
       "      <th>name</th>\n",
       "      <th>gini_index</th>\n",
       "      <th>GEO_ID</th>\n",
       "      <th>NAME</th>\n",
       "    </tr>\n",
       "  </thead>\n",
       "  <tbody>\n",
       "  </tbody>\n",
       "</table>\n",
       "</div>"
      ],
      "text/plain": [
       "Empty DataFrame\n",
       "Columns: [name, gini_index, GEO_ID, NAME]\n",
       "Index: []"
      ]
     },
     "execution_count": 9,
     "metadata": {},
     "output_type": "execute_result"
    }
   ],
   "source": [
    "# check to ensure all names match (should be empty df)\n",
    "gini_df[(gini_df['name'] != gini_df['NAME'])]"
   ]
  },
  {
   "cell_type": "code",
   "execution_count": 10,
   "id": "f3c32363",
   "metadata": {},
   "outputs": [],
   "source": [
    "gini_df['FIPS'] = gini_df['GEO_ID'].str[-11:]"
   ]
  },
  {
   "cell_type": "code",
   "execution_count": 11,
   "id": "25889d62",
   "metadata": {},
   "outputs": [],
   "source": [
    "gini_2018 = gini_df[['FIPS','gini_index']]"
   ]
  },
  {
   "cell_type": "code",
   "execution_count": 12,
   "id": "4636cb0e",
   "metadata": {},
   "outputs": [
    {
     "data": {
      "text/html": [
       "<div>\n",
       "<style scoped>\n",
       "    .dataframe tbody tr th:only-of-type {\n",
       "        vertical-align: middle;\n",
       "    }\n",
       "\n",
       "    .dataframe tbody tr th {\n",
       "        vertical-align: top;\n",
       "    }\n",
       "\n",
       "    .dataframe thead th {\n",
       "        text-align: right;\n",
       "    }\n",
       "</style>\n",
       "<table border=\"1\" class=\"dataframe\">\n",
       "  <thead>\n",
       "    <tr style=\"text-align: right;\">\n",
       "      <th></th>\n",
       "      <th>FIPS</th>\n",
       "      <th>gini_index</th>\n",
       "    </tr>\n",
       "  </thead>\n",
       "  <tbody>\n",
       "    <tr>\n",
       "      <th>0</th>\n",
       "      <td>49001100100</td>\n",
       "      <td>0.4095</td>\n",
       "    </tr>\n",
       "    <tr>\n",
       "      <th>1</th>\n",
       "      <td>49001100200</td>\n",
       "      <td>0.3306</td>\n",
       "    </tr>\n",
       "    <tr>\n",
       "      <th>2</th>\n",
       "      <td>49003960100</td>\n",
       "      <td>0.4058</td>\n",
       "    </tr>\n",
       "    <tr>\n",
       "      <th>3</th>\n",
       "      <td>49003960200</td>\n",
       "      <td>0.3215</td>\n",
       "    </tr>\n",
       "    <tr>\n",
       "      <th>4</th>\n",
       "      <td>49003960300</td>\n",
       "      <td>0.3355</td>\n",
       "    </tr>\n",
       "  </tbody>\n",
       "</table>\n",
       "</div>"
      ],
      "text/plain": [
       "          FIPS gini_index\n",
       "0  49001100100     0.4095\n",
       "1  49001100200     0.3306\n",
       "2  49003960100     0.4058\n",
       "3  49003960200     0.3215\n",
       "4  49003960300     0.3355"
      ]
     },
     "execution_count": 12,
     "metadata": {},
     "output_type": "execute_result"
    }
   ],
   "source": [
    "gini_2018.head()"
   ]
  },
  {
   "cell_type": "markdown",
   "id": "329e916f",
   "metadata": {},
   "source": [
    "---------\n",
    "### 2019 data"
   ]
  },
  {
   "cell_type": "code",
   "execution_count": 13,
   "id": "fcbcefad",
   "metadata": {},
   "outputs": [],
   "source": [
    "gini_df = pd.read_excel(r'Data-2019\\Gini_2019_modified.xlsx','Data')"
   ]
  },
  {
   "cell_type": "code",
   "execution_count": 14,
   "id": "e752db15",
   "metadata": {},
   "outputs": [],
   "source": [
    "gini_df[['GEO_ID','NAME']] = race_df[['GEO_ID','NAME']]"
   ]
  },
  {
   "cell_type": "code",
   "execution_count": 15,
   "id": "ec9c1894",
   "metadata": {},
   "outputs": [
    {
     "data": {
      "text/html": [
       "<div>\n",
       "<style scoped>\n",
       "    .dataframe tbody tr th:only-of-type {\n",
       "        vertical-align: middle;\n",
       "    }\n",
       "\n",
       "    .dataframe tbody tr th {\n",
       "        vertical-align: top;\n",
       "    }\n",
       "\n",
       "    .dataframe thead th {\n",
       "        text-align: right;\n",
       "    }\n",
       "</style>\n",
       "<table border=\"1\" class=\"dataframe\">\n",
       "  <thead>\n",
       "    <tr style=\"text-align: right;\">\n",
       "      <th></th>\n",
       "      <th>name</th>\n",
       "      <th>gini_index</th>\n",
       "      <th>GEO_ID</th>\n",
       "      <th>NAME</th>\n",
       "    </tr>\n",
       "  </thead>\n",
       "  <tbody>\n",
       "  </tbody>\n",
       "</table>\n",
       "</div>"
      ],
      "text/plain": [
       "Empty DataFrame\n",
       "Columns: [name, gini_index, GEO_ID, NAME]\n",
       "Index: []"
      ]
     },
     "execution_count": 15,
     "metadata": {},
     "output_type": "execute_result"
    }
   ],
   "source": [
    "# check to ensure all names match (should be empty df)\n",
    "gini_df[(gini_df['name'] != gini_df['NAME'])]"
   ]
  },
  {
   "cell_type": "code",
   "execution_count": 16,
   "id": "7cf9bb4a",
   "metadata": {},
   "outputs": [],
   "source": [
    "gini_df['FIPS'] = gini_df['GEO_ID'].str[-11:]"
   ]
  },
  {
   "cell_type": "code",
   "execution_count": 17,
   "id": "def92a1f",
   "metadata": {},
   "outputs": [],
   "source": [
    "gini_2019 = gini_df[['FIPS','gini_index']]"
   ]
  },
  {
   "cell_type": "code",
   "execution_count": 18,
   "id": "c2a49b9f",
   "metadata": {},
   "outputs": [
    {
     "data": {
      "text/html": [
       "<div>\n",
       "<style scoped>\n",
       "    .dataframe tbody tr th:only-of-type {\n",
       "        vertical-align: middle;\n",
       "    }\n",
       "\n",
       "    .dataframe tbody tr th {\n",
       "        vertical-align: top;\n",
       "    }\n",
       "\n",
       "    .dataframe thead th {\n",
       "        text-align: right;\n",
       "    }\n",
       "</style>\n",
       "<table border=\"1\" class=\"dataframe\">\n",
       "  <thead>\n",
       "    <tr style=\"text-align: right;\">\n",
       "      <th></th>\n",
       "      <th>FIPS</th>\n",
       "      <th>gini_index</th>\n",
       "    </tr>\n",
       "  </thead>\n",
       "  <tbody>\n",
       "    <tr>\n",
       "      <th>0</th>\n",
       "      <td>49001100100</td>\n",
       "      <td>0.4012</td>\n",
       "    </tr>\n",
       "    <tr>\n",
       "      <th>1</th>\n",
       "      <td>49001100200</td>\n",
       "      <td>0.3776</td>\n",
       "    </tr>\n",
       "    <tr>\n",
       "      <th>2</th>\n",
       "      <td>49003960100</td>\n",
       "      <td>0.3966</td>\n",
       "    </tr>\n",
       "    <tr>\n",
       "      <th>3</th>\n",
       "      <td>49003960200</td>\n",
       "      <td>0.3259</td>\n",
       "    </tr>\n",
       "    <tr>\n",
       "      <th>4</th>\n",
       "      <td>49003960300</td>\n",
       "      <td>0.3355</td>\n",
       "    </tr>\n",
       "  </tbody>\n",
       "</table>\n",
       "</div>"
      ],
      "text/plain": [
       "          FIPS gini_index\n",
       "0  49001100100     0.4012\n",
       "1  49001100200     0.3776\n",
       "2  49003960100     0.3966\n",
       "3  49003960200     0.3259\n",
       "4  49003960300     0.3355"
      ]
     },
     "execution_count": 18,
     "metadata": {},
     "output_type": "execute_result"
    }
   ],
   "source": [
    "gini_2019.head()"
   ]
  },
  {
   "cell_type": "code",
   "execution_count": null,
   "id": "cb1d5caf",
   "metadata": {},
   "outputs": [],
   "source": []
  }
 ],
 "metadata": {
  "kernelspec": {
   "display_name": "Python 3 (ipykernel)",
   "language": "python",
   "name": "python3"
  },
  "language_info": {
   "codemirror_mode": {
    "name": "ipython",
    "version": 3
   },
   "file_extension": ".py",
   "mimetype": "text/x-python",
   "name": "python",
   "nbconvert_exporter": "python",
   "pygments_lexer": "ipython3",
   "version": "3.9.15"
  }
 },
 "nbformat": 4,
 "nbformat_minor": 5
}
