{
 "cells": [
  {
   "cell_type": "code",
   "execution_count": 2,
   "id": "d8bf6311",
   "metadata": {},
   "outputs": [],
   "source": [
    "import pandas as pd"
   ]
  },
  {
   "cell_type": "code",
   "execution_count": 3,
   "id": "e5a24b91",
   "metadata": {},
   "outputs": [],
   "source": [
    "data = pd.read_csv(\"test.csv\")"
   ]
  },
  {
   "cell_type": "code",
   "execution_count": 5,
   "id": "e3253239",
   "metadata": {},
   "outputs": [
    {
     "data": {
      "text/plain": [
       "<bound method NDFrame.head of         STATEFP  COUNTYFP  TRACTCE  NatWalkInd\n",
       "0            48       113     7825   14.000000\n",
       "1            48       113     7825   10.833333\n",
       "2            48       113     7825    8.333333\n",
       "3            48       113     7824   15.666667\n",
       "4            48       113     7824   10.166667\n",
       "...         ...       ...      ...         ...\n",
       "220735       78        30   961000    7.333333\n",
       "220736       78        30   961000    7.333333\n",
       "220737       78        30   961000    7.333333\n",
       "220738       78        30   960700    4.000000\n",
       "220739       78        30   960200    4.666667\n",
       "\n",
       "[220740 rows x 4 columns]>"
      ]
     },
     "execution_count": 5,
     "metadata": {},
     "output_type": "execute_result"
    }
   ],
   "source": [
    "data_2 = data[[\"STATEFP\", \"COUNTYFP\", \"TRACTCE\", \"NatWalkInd\"]]\n",
    "data_2.head"
   ]
  },
  {
   "cell_type": "code",
   "execution_count": 14,
   "id": "fcdda715",
   "metadata": {},
   "outputs": [
    {
     "name": "stderr",
     "output_type": "stream",
     "text": [
      "/var/folders/fp/mr0bdnzj09vb9z68d9kw00m40000gn/T/ipykernel_73070/90246427.py:3: SettingWithCopyWarning: \n",
      "A value is trying to be set on a copy of a slice from a DataFrame.\n",
      "Try using .loc[row_indexer,col_indexer] = value instead\n",
      "\n",
      "See the caveats in the documentation: https://pandas.pydata.org/pandas-docs/stable/user_guide/indexing.html#returning-a-view-versus-a-copy\n",
      "  utah_data['FIPS'] = utah_data.iloc[:,1:3].apply(\n"
     ]
    },
    {
     "data": {
      "text/plain": [
       "<bound method NDFrame.head of         STATEFP  COUNTYFP  TRACTCE  NatWalkInd      FIPS\n",
       "204253       49        41   975300    7.333333  41975300\n",
       "204254       49        41   975500    2.500000  41975500\n",
       "204255       49         5      702    6.666667      5702\n",
       "204256       49        49     3106    7.333333    493106\n",
       "204257       49         5      600    9.666667      5600\n",
       "...         ...       ...      ...         ...       ...\n",
       "205938       49        49      508   13.166667     49508\n",
       "205939       49        49      603   14.000000     49603\n",
       "205940       49        49      604    6.500000     49604\n",
       "205941       49        49      711   14.166667     49711\n",
       "205942       49        49      711    9.166667     49711\n",
       "\n",
       "[1690 rows x 5 columns]>"
      ]
     },
     "execution_count": 14,
     "metadata": {},
     "output_type": "execute_result"
    }
   ],
   "source": [
    "utah_data = data_2[(data.STATEFP == 49)]\n",
    "\n",
    "utah_data['FIPS'] = utah_data.iloc[:,1:3].apply(\n",
    "    lambda x: ''.join(x.astype(str)),axis=1)"
   ]
  },
  {
   "cell_type": "code",
   "execution_count": 15,
   "id": "f8523830",
   "metadata": {},
   "outputs": [
    {
     "data": {
      "text/plain": [
       "<bound method NDFrame.head of             FIPS  NatWalkInd\n",
       "204253  41975300    7.333333\n",
       "204254  41975500    2.500000\n",
       "204255      5702    6.666667\n",
       "204256    493106    7.333333\n",
       "204257      5600    9.666667\n",
       "...          ...         ...\n",
       "205938     49508   13.166667\n",
       "205939     49603   14.000000\n",
       "205940     49604    6.500000\n",
       "205941     49711   14.166667\n",
       "205942     49711    9.166667\n",
       "\n",
       "[1690 rows x 2 columns]>"
      ]
     },
     "execution_count": 15,
     "metadata": {},
     "output_type": "execute_result"
    }
   ],
   "source": [
    "final_walkability_data = utah_data[[\"FIPS\", \"NatWalkInd\"]]\n",
    "final_walkability_data.head"
   ]
  }
 ],
 "metadata": {
  "kernelspec": {
   "display_name": "Python 3 (ipykernel)",
   "language": "python",
   "name": "python3"
  },
  "language_info": {
   "codemirror_mode": {
    "name": "ipython",
    "version": 3
   },
   "file_extension": ".py",
   "mimetype": "text/x-python",
   "name": "python",
   "nbconvert_exporter": "python",
   "pygments_lexer": "ipython3",
   "version": "3.9.7"
  }
 },
 "nbformat": 4,
 "nbformat_minor": 5
}
